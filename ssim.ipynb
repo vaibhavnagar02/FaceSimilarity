{
 "cells": [
  {
   "cell_type": "code",
   "execution_count": 1,
   "metadata": {},
   "outputs": [],
   "source": [
    "import cv2\n",
    "import prettytable"
   ]
  },
  {
   "cell_type": "code",
   "execution_count": 22,
   "metadata": {},
   "outputs": [],
   "source": [
    "import os\n",
    "import cv2\n",
    "import matplotlib as plt\n",
    "from skimage.metrics import structural_similarity as ssim\n",
    "#input2_path = \"C://Users/vaibh/PycharmProjects/DIR/Duplicate_Image_Remover/Sparsh/87_-312_372\"\n",
    "#input_path = \"C://Users/vaibh/PycharmProjects/DIR/Duplicate_Image_Remover/testing\"\n",
    "window_name = 'Imagee'\n",
    "font = cv2.FONT_HERSHEY_SIMPLEX\n",
    "org = (50, 50)\n",
    "fontScale = 1\n",
    "color = (255, 0, 0)\n",
    "thickness = 2\n",
    "\n",
    "similar_list = []\n",
    "temp3 = []\n",
    "temp4=[]\n",
    "temp5=[]\n",
    "temp6=[]\n",
    "temp7 = []\n",
    "temp8=[]\n",
    "temp9=[]\n",
    "sim_score = []\n",
    "\n",
    "def score(input_path_copies , input_path_master):\n",
    "    Input_path = input_path_copies\n",
    "    master_image = cv2.imread(input_path_master)\n",
    "    #images_copy = os.listdir('Duplicate_Image_Remover\\Sparsh\\87_-312_372\\33.jpg')\n",
    "    #images_copy = cv2.imread('C://Users/vaibh/PycharmProjects/DIR/Duplicate_Image_Remover/Sparsh/87_-312_372')\n",
    "    images_list = os.listdir(input_path_copies)\n",
    "    master_image_gray = cv2.cvtColor(master_image, cv2.COLOR_BGR2GRAY)\n",
    "#image_gray = cv2.cvtColor(images, cv2.COLOR_BGR2GRAY)\n",
    "    for i in images_list:\n",
    "        temp_img = cv2.imread(Input_path + \"/\" + i)\n",
    "        temp_img_gray = cv2.cvtColor(temp_img , cv2.COLOR_BGR2GRAY)\n",
    "        (score, diff) = ssim(master_image_gray, temp_img_gray, full=True)\n",
    "        image = cv2.putText(temp_img_gray, f\"similarity: {round(score, 2)}\", (1, 1), cv2.FONT_HERSHEY_DUPLEX, 0.6, (255, 255, 255),1)\n",
    "        temp3.append(image)\n",
    "        print(\"Image similarity of \"+i+' with 36_0.jpg is :'+str(score))\n",
    "        if score > 0.50 and score < 0.60:    \n",
    "            temp4.append(i)\n",
    "            temp8.append(score)\n",
    "        elif score > 0.60 and score < 0.70:\n",
    "                temp5.append(i)\n",
    "        elif score > 0.70 and score < 0.80:\n",
    "            temp6.append(i)\n",
    "        elif score > 0.80:\n",
    "            temp9.append(score)\n",
    "            temp7.append(i)\n",
    "   \n",
    "\n",
    "#print(\"similarity score above 0.85 are:\", temp8)\n",
    "\n",
    "from prettytable import PrettyTable\n",
    "def table(Column1 , Column2):\n",
    "    Columns = [Column1 , Column2]\n",
    "    \n",
    "\n",
    "    myTable = PrettyTable()\n",
    "\n",
    "    # Add Columns\n",
    "    myTable.add_column(columns[0], [\"Minimum Similarity\", \"Maximum Similarity\" ,\"Between 50% and 60%\",\"between 60% and 70%\",\"Between 70% and 80%\",\"Above 80%\"])\n",
    "    myTable.add_column(columns[1], [min(temp8) , max(temp9) , len(temp4) , len(temp5) , len(temp6) , len(temp7)])\n",
    "\n",
    "\n",
    "    print(myTable)\n",
    "\n"
   ]
  },
  {
   "cell_type": "code",
   "execution_count": null,
   "metadata": {},
   "outputs": [],
   "source": [
    "score(\"C://Users/vaibh/PycharmProjects/DIR/Duplicate_Image_Remover/images_new\",\"C://Users/vaibh/PycharmProjects/DIR/Duplicate_Image_Remover/images_new/36_0.jpg\")"
   ]
  },
  {
   "cell_type": "code",
   "execution_count": null,
   "metadata": {},
   "outputs": [],
   "source": [
    "table( 'Segregation' , 'Number_Of_images')"
   ]
  },
  {
   "cell_type": "code",
   "execution_count": 20,
   "metadata": {},
   "outputs": [],
   "source": [
    "# similar_list.append(temp3)\n",
    "\n",
    "# os.chdir('C://Users/vaibh/PycharmProjects/DIR/Duplicate_Image_Remover/Similar_Images')\n",
    "# for iter, i in enumerate(similar_list):\n",
    "#     os.chdir(\"C://Users/vaibh/PycharmProjects/DIR/Duplicate_Image_Remover/Similar_Images\")\n",
    "#     if os.path.exists(\"dir\" + str(iter)):\n",
    "#         os.chdir(\"dir\" + str(iter))\n",
    "#     else:\n",
    "#         os.mkdir(\"dir\" + str(iter))\n",
    "#         os.chdir(\"dir\" + str(iter))\n",
    "#         for k, j in enumerate(i):\n",
    "#           sentiment = \"image\" + str(k) + \".jpg\"\n",
    "#           cv2.imwrite(sentiment, j)"
   ]
  }
 ],
 "metadata": {
  "kernelspec": {
   "display_name": "Python 3.10.6 64-bit",
   "language": "python",
   "name": "python3"
  },
  "language_info": {
   "codemirror_mode": {
    "name": "ipython",
    "version": 3
   },
   "file_extension": ".py",
   "mimetype": "text/x-python",
   "name": "python",
   "nbconvert_exporter": "python",
   "pygments_lexer": "ipython3",
   "version": "3.10.6"
  },
  "orig_nbformat": 4,
  "vscode": {
   "interpreter": {
    "hash": "32d58363a2086423c4c5d35cec0be23590cac14855bbf3a11a8533a4a1b6090d"
   }
  }
 },
 "nbformat": 4,
 "nbformat_minor": 2
}
